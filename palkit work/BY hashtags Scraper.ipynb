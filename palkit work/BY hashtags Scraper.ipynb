{
 "cells": [
  {
   "cell_type": "code",
   "execution_count": 1,
   "metadata": {},
   "outputs": [
    {
     "data": {
      "text/plain": [
       "['NSE List for Stocks Merge.csv',\n",
       " 'NSE Nifty500 List Clean Names.csv',\n",
       " 'nse-nifty500list.csv',\n",
       " 'Updated_handles_list.csv',\n",
       " 'updated_handles_tweepy_verification.csv']"
      ]
     },
     "execution_count": 1,
     "metadata": {},
     "output_type": "execute_result"
    }
   ],
   "source": [
    "# IMPORTS AND FILE INPUT\n",
    "\n",
    "import pandas as pd\n",
    "\n",
    "import twint\n",
    "import os\n",
    "import time\n",
    "import nest_asyncio\n",
    "nest_asyncio.apply()\n",
    "from threading import Thread\n",
    "\n",
    "import tweepy\n",
    "import pandas as pd\n",
    "import numpy as np\n",
    "\n",
    "os.getcwd()\n",
    "\n",
    "os.chdir(r'D:\\OneDrive - Indian School of Business\\Projects\\JSI\\JSI_OnlineActivity\\Tweets Data\\input')\n",
    "os.listdir()"
   ]
  },
  {
   "cell_type": "code",
   "execution_count": 2,
   "metadata": {},
   "outputs": [
    {
     "data": {
      "text/plain": [
       "(332, 10)"
      ]
     },
     "execution_count": 2,
     "metadata": {},
     "output_type": "execute_result"
    }
   ],
   "source": [
    "df= pd.read_csv('updated_handles_tweepy_verification.csv')\n",
    "df.dropna(inplace=True)\n",
    "df.drop_duplicates(inplace=True)\n",
    "df['CompanyName']= df['CompanyName'].str.replace('.', '')\n",
    "df.to_csv('Updated_handles_list.csv')\n",
    "df.shape"
   ]
  },
  {
   "cell_type": "code",
   "execution_count": 3,
   "metadata": {},
   "outputs": [
    {
     "data": {
      "text/html": [
       "<div>\n",
       "<style scoped>\n",
       "    .dataframe tbody tr th:only-of-type {\n",
       "        vertical-align: middle;\n",
       "    }\n",
       "\n",
       "    .dataframe tbody tr th {\n",
       "        vertical-align: top;\n",
       "    }\n",
       "\n",
       "    .dataframe thead th {\n",
       "        text-align: right;\n",
       "    }\n",
       "</style>\n",
       "<table border=\"1\" class=\"dataframe\">\n",
       "  <thead>\n",
       "    <tr style=\"text-align: right;\">\n",
       "      <th></th>\n",
       "      <th>Industry</th>\n",
       "      <th>CompanyName</th>\n",
       "      <th>cn</th>\n",
       "      <th>Symbol</th>\n",
       "      <th>Series</th>\n",
       "      <th>ISIN Code</th>\n",
       "      <th>handle</th>\n",
       "      <th>verified</th>\n",
       "      <th>descriptions</th>\n",
       "      <th>tweetscount</th>\n",
       "    </tr>\n",
       "  </thead>\n",
       "  <tbody>\n",
       "    <tr>\n",
       "      <th>0</th>\n",
       "      <td>INDUSTRIAL MANUFACTURING</td>\n",
       "      <td>ABB India</td>\n",
       "      <td>abbindialtd</td>\n",
       "      <td>EQ</td>\n",
       "      <td>ABB</td>\n",
       "      <td>INE117A01022</td>\n",
       "      <td>ABBIndia</td>\n",
       "      <td>False</td>\n",
       "      <td>A #technology leader that is driving the digit...</td>\n",
       "      <td>2307</td>\n",
       "    </tr>\n",
       "    <tr>\n",
       "      <th>2</th>\n",
       "      <td>INDUSTRIAL MANUFACTURING</td>\n",
       "      <td>AIA Engineering</td>\n",
       "      <td>aiaengineeringltd</td>\n",
       "      <td>EQ</td>\n",
       "      <td>AIAENG</td>\n",
       "      <td>INE212H01026</td>\n",
       "      <td>aiaengineers</td>\n",
       "      <td>False</td>\n",
       "      <td>Consulting Engineering firm founded in 1985 pr...</td>\n",
       "      <td>202</td>\n",
       "    </tr>\n",
       "    <tr>\n",
       "      <th>3</th>\n",
       "      <td>METALS</td>\n",
       "      <td>APL Apollo Tubes</td>\n",
       "      <td>aplapollotubesltd</td>\n",
       "      <td>EQ</td>\n",
       "      <td>APLAPOLLO</td>\n",
       "      <td>INE702C01019</td>\n",
       "      <td>aplapollo_tubes</td>\n",
       "      <td>False</td>\n",
       "      <td>India's Largest Structural Steel Tube Brand</td>\n",
       "      <td>848</td>\n",
       "    </tr>\n",
       "    <tr>\n",
       "      <th>5</th>\n",
       "      <td>SERVICES</td>\n",
       "      <td>Adani Enterprises</td>\n",
       "      <td>adanienterprisesltd</td>\n",
       "      <td>EQ</td>\n",
       "      <td>ADANIENT</td>\n",
       "      <td>INE423A01024</td>\n",
       "      <td>AdaniOnline</td>\n",
       "      <td>True</td>\n",
       "      <td>A leading business conglomerate enriching live...</td>\n",
       "      <td>2642</td>\n",
       "    </tr>\n",
       "    <tr>\n",
       "      <th>6</th>\n",
       "      <td>CONSUMER GOODS</td>\n",
       "      <td>Aditya Birla Fashion and Retail</td>\n",
       "      <td>adityabirlafashionandretailltd</td>\n",
       "      <td>EQ</td>\n",
       "      <td>ABFRL</td>\n",
       "      <td>INE647O01011</td>\n",
       "      <td>AdityaBirlaGrp</td>\n",
       "      <td>True</td>\n",
       "      <td>Official Twitter account of Aditya Birla Group...</td>\n",
       "      <td>4165</td>\n",
       "    </tr>\n",
       "  </tbody>\n",
       "</table>\n",
       "</div>"
      ],
      "text/plain": [
       "                   Industry                      CompanyName  \\\n",
       "0  INDUSTRIAL MANUFACTURING                        ABB India   \n",
       "2  INDUSTRIAL MANUFACTURING                  AIA Engineering   \n",
       "3                    METALS                 APL Apollo Tubes   \n",
       "5                  SERVICES                Adani Enterprises   \n",
       "6            CONSUMER GOODS  Aditya Birla Fashion and Retail   \n",
       "\n",
       "                               cn Symbol     Series     ISIN Code  \\\n",
       "0                     abbindialtd     EQ        ABB  INE117A01022   \n",
       "2               aiaengineeringltd     EQ     AIAENG  INE212H01026   \n",
       "3               aplapollotubesltd     EQ  APLAPOLLO  INE702C01019   \n",
       "5             adanienterprisesltd     EQ   ADANIENT  INE423A01024   \n",
       "6  adityabirlafashionandretailltd     EQ      ABFRL  INE647O01011   \n",
       "\n",
       "            handle  verified  \\\n",
       "0         ABBIndia     False   \n",
       "2     aiaengineers     False   \n",
       "3  aplapollo_tubes     False   \n",
       "5      AdaniOnline      True   \n",
       "6   AdityaBirlaGrp      True   \n",
       "\n",
       "                                        descriptions  tweetscount  \n",
       "0  A #technology leader that is driving the digit...         2307  \n",
       "2  Consulting Engineering firm founded in 1985 pr...          202  \n",
       "3        India's Largest Structural Steel Tube Brand          848  \n",
       "5  A leading business conglomerate enriching live...         2642  \n",
       "6  Official Twitter account of Aditya Birla Group...         4165  "
      ]
     },
     "execution_count": 3,
     "metadata": {},
     "output_type": "execute_result"
    }
   ],
   "source": [
    "df.head()"
   ]
  },
  {
   "cell_type": "markdown",
   "metadata": {},
   "source": [
    "# TWINT SCRAPER"
   ]
  },
  {
   "cell_type": "code",
   "execution_count": 4,
   "metadata": {},
   "outputs": [],
   "source": [
    "def tweetbySearch():\n",
    "    c= twint.Config()\n",
    "    c.Search= 'sensex%20OR%20nifty%20OR%20nse%20OR%20bse%20OR%20indianstockmarket%20OR%20bombaystockexchange%20OR%20nseindia%20OR%20dalalstreet%20OR%20niftyfifty'\n",
    "    c.Since = \"2018-01-01\"\n",
    "    c.Until = \"2020-12-31\"\n",
    "    c.Lang= \"en\"\n",
    "    c.Verified = True\n",
    "    c.Hide_output = True\n",
    "    c.Format = \"Search: {username} | Tweet: {tweet}\"\n",
    "    c.Store_csv = True\n",
    "    c.Output = \"Stock_Tags_Run4.csv\"\n",
    "    c.Debug = True\n",
    "    \n",
    "    try:\n",
    "        twint.run.Search(c)    \n",
    "    except (KeyboardInterrupt, SystemExit):\n",
    "        raise\n",
    "    except:\n",
    "        print(\"Problem with %s.\" % since)"
   ]
  },
  {
   "cell_type": "code",
   "execution_count": 5,
   "metadata": {},
   "outputs": [],
   "source": [
    "os.chdir(r'D:\\OneDrive - Indian School of Business\\Projects\\JSI\\JSI_OnlineActivity\\Tweets Data\\output\\collected\\byHashTags')"
   ]
  },
  {
   "cell_type": "code",
   "execution_count": 6,
   "metadata": {},
   "outputs": [
    {
     "name": "stdout",
     "output_type": "stream",
     "text": [
      "[!] No more data! Scraping will stop now.\n",
      "found 0 deleted tweets in this search.\n",
      "time taken=  45.512739264965056  minutes\n"
     ]
    }
   ],
   "source": [
    "start_time= time.time()\n",
    "tweetbySearch()\n",
    "print(\"time taken= \", (time.time()-start_time)/60, \" minutes\")"
   ]
  },
  {
   "cell_type": "code",
   "execution_count": 7,
   "metadata": {},
   "outputs": [],
   "source": [
    "#Try this\n",
    "# >10 likes OR >5comments OR >2retweets for all tweets Verified or not"
   ]
  },
  {
   "cell_type": "code",
   "execution_count": null,
   "metadata": {},
   "outputs": [],
   "source": []
  }
 ],
 "metadata": {
  "kernelspec": {
   "display_name": "Python 3",
   "language": "python",
   "name": "python3"
  },
  "language_info": {
   "codemirror_mode": {
    "name": "ipython",
    "version": 3
   },
   "file_extension": ".py",
   "mimetype": "text/x-python",
   "name": "python",
   "nbconvert_exporter": "python",
   "pygments_lexer": "ipython3",
   "version": "3.8.5"
  }
 },
 "nbformat": 4,
 "nbformat_minor": 4
}
