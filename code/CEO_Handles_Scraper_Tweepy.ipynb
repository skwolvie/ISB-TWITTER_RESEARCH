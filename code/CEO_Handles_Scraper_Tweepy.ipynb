{
 "cells": [
  {
   "cell_type": "markdown",
   "metadata": {},
   "source": [
    "# Tweepy Handles Scraper"
   ]
  },
  {
   "cell_type": "markdown",
   "metadata": {},
   "source": [
    "## INIT"
   ]
  },
  {
   "cell_type": "code",
   "execution_count": 1,
   "metadata": {},
   "outputs": [],
   "source": [
    "import tweepy\n",
    "import pandas as pd\n",
    "import numpy as np"
   ]
  },
  {
   "cell_type": "code",
   "execution_count": 2,
   "metadata": {},
   "outputs": [],
   "source": [
    "# assign the values accordingly \n",
    "consumer_key = \"T1CPVPyMJiTQeHbM8wU3j4yUX\" \n",
    "consumer_secret = \"xlfVLzMPtAAjndIzeKDYhgtMYjdAOn1FkQe3q3NSBk9QTnxAEt\" \n",
    "access_token = \"3097042092-5ZHpgdeafTg9I3A6v15N3kbL5mHjV2r9TuaSrGD\" \n",
    "access_token_secret = \"a5Txr3k8vEN7G1U3wvVPdv8eh3p8hlWTAedLPy2WyGEfl\""
   ]
  },
  {
   "cell_type": "code",
   "execution_count": 3,
   "metadata": {},
   "outputs": [],
   "source": [
    "# authorization of consumer key and consumer secret \n",
    "auth = tweepy.OAuthHandler(consumer_key, consumer_secret) \n",
    "  \n",
    "# set access to user's access key and access secret  \n",
    "auth.set_access_token(access_token, access_token_secret) \n",
    "  \n",
    "# calling the api  \n",
    "api = tweepy.API(auth, wait_on_rate_limit=True)"
   ]
  },
  {
   "cell_type": "code",
   "execution_count": 6,
   "metadata": {},
   "outputs": [
    {
     "data": {
      "text/plain": [
       "(1647, 5)"
      ]
     },
     "execution_count": 6,
     "metadata": {},
     "output_type": "execute_result"
    }
   ],
   "source": [
    "df=pd.read_excel('../input/SnP_500_CEO_Names.xlsx')\n",
    "df.dropna(inplace=True)\n",
    "df.drop_duplicates(subset=['CEO Name', 'Company'], inplace=True)\n",
    "#df['ceos']= df[['CEO Name', 'Company']].apply(lambda x: ' '.join(x), axis=1)\n",
    "#df.drop(['Unnamed: 0'], axis=1, inplace=True)\n",
    "df.shape"
   ]
  },
  {
   "cell_type": "code",
   "execution_count": 7,
   "metadata": {},
   "outputs": [
    {
     "data": {
      "text/plain": [
       "Index(['CEO Name', 'Company', 'GVKEY', 'EXECID', 'YEAR'], dtype='object')"
      ]
     },
     "execution_count": 7,
     "metadata": {},
     "output_type": "execute_result"
    }
   ],
   "source": [
    "df.columns"
   ]
  },
  {
   "cell_type": "code",
   "execution_count": 8,
   "metadata": {},
   "outputs": [],
   "source": [
    "tdf=pd.DataFrame()\n",
    "ceos=[]\n",
    "companies=[]\n",
    "years=[]\n",
    "handles=[]\n",
    "descriptions=[]\n",
    "verified=[]\n",
    "\n",
    "for i in range(len(df)):\n",
    "    users = api.search_users(df.iloc[i]['CEO Name'])\n",
    "    lst=[]\n",
    "    for user in users:\n",
    "        lst.append(user.screen_name)\n",
    "    for j in lst:\n",
    "        result=api.get_user(j).verified\n",
    "        if result==True:\n",
    "            ceos.append(df.iloc[i]['CEO Name'])\n",
    "            companies.append(df.iloc[i]['Company'])\n",
    "            years.append(df.iloc[i]['YEAR'])\n",
    "            handles.append(j)\n",
    "            descriptions.append(api.get_user(j).description)\n",
    "            verified.append(result)\n",
    "        elif(('ceo' in api.get_user(j).description.lower()) and int(api.get_user(j).followers_count)>100):\n",
    "            ceos.append(df.iloc[i]['CEO Name'])\n",
    "            companies.append(df.iloc[i]['Company'])\n",
    "            years.append(df.iloc[i]['YEAR'])\n",
    "            handles.append(j)\n",
    "            descriptions.append(api.get_user(j).description)\n",
    "            verified.append(result)\n",
    "        else:\n",
    "            ceos.append(df.iloc[i]['CEO Name'])\n",
    "            companies.append(df.iloc[i]['Company'])\n",
    "            years.append(df.iloc[i]['YEAR'])\n",
    "            handles.append(np.NaN)\n",
    "            descriptions.append(np.NaN)\n",
    "            verified.append(np.NaN)"
   ]
  },
  {
   "cell_type": "code",
   "execution_count": 9,
   "metadata": {},
   "outputs": [
    {
     "name": "stdout",
     "output_type": "stream",
     "text": [
      "<class 'pandas.core.frame.DataFrame'>\n",
      "Int64Index: 99 entries, 12 to 3950\n",
      "Data columns (total 6 columns):\n",
      " #   Column         Non-Null Count  Dtype \n",
      "---  ------         --------------  ----- \n",
      " 0   CEO            99 non-null     object\n",
      " 1   Company        99 non-null     object\n",
      " 2   YEAR           99 non-null     int64 \n",
      " 3   Handle         99 non-null     object\n",
      " 4   Twitter_Descr  99 non-null     object\n",
      " 5   verified       99 non-null     object\n",
      "dtypes: int64(1), object(5)\n",
      "memory usage: 5.4+ KB\n"
     ]
    }
   ],
   "source": [
    "columns = ['CEO','Company', 'YEAR', 'Handle', 'Twitter_Descr', 'verified']\n",
    "tdf = pd.DataFrame(list(zip(ceos, companies, years, handles, descriptions, verified)), columns =columns) \n",
    "tdf.dropna(inplace=True)\n",
    "tdf= tdf[tdf['verified']!=False]\n",
    "tdf.info()"
   ]
  },
  {
   "cell_type": "code",
   "execution_count": 10,
   "metadata": {},
   "outputs": [],
   "source": [
    "tdf.to_csv(\"../output/handles_tweepy_lookup.csv\", index=False)"
   ]
  }
 ],
 "metadata": {
  "kernelspec": {
   "display_name": "Python 3",
   "language": "python",
   "name": "python3"
  },
  "language_info": {
   "codemirror_mode": {
    "name": "ipython",
    "version": 3
   },
   "file_extension": ".py",
   "mimetype": "text/x-python",
   "name": "python",
   "nbconvert_exporter": "python",
   "pygments_lexer": "ipython3",
   "version": "3.8.5"
  }
 },
 "nbformat": 4,
 "nbformat_minor": 4
}
