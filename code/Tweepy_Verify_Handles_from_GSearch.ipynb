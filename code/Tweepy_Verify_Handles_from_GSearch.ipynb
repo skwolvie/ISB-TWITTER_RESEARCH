{
 "cells": [
  {
   "cell_type": "markdown",
   "metadata": {},
   "source": [
    "## INIT"
   ]
  },
  {
   "cell_type": "code",
   "execution_count": 4,
   "metadata": {},
   "outputs": [],
   "source": [
    "import tweepy\n",
    "import pandas as pd\n",
    "import numpy as np"
   ]
  },
  {
   "cell_type": "code",
   "execution_count": 2,
   "metadata": {},
   "outputs": [],
   "source": [
    "# assign the values accordingly \n",
    "consumer_key = \"OMJv2A5J1XvXdBSLykjbzQvjN\" \n",
    "consumer_secret = \"IF1tUCs5uFhKNN4PILugYgTdfaFDEakS4gbzWHKEL92dIoSRHA\" \n",
    "access_token = \"3097042092-HXzJwRZ4BRSiTa67RfHnlE7CeF01gutElIP6UoT\" \n",
    "access_token_secret = \"kZYcycMakp0z3jcGC07UpLynOWvvtoBiAmwVjJKziSYB8\""
   ]
  },
  {
   "cell_type": "code",
   "execution_count": 3,
   "metadata": {},
   "outputs": [],
   "source": [
    "# authorization of consumer key and consumer secret \n",
    "auth = tweepy.OAuthHandler(consumer_key, consumer_secret) \n",
    "  \n",
    "# set access to user's access key and access secret  \n",
    "auth.set_access_token(access_token, access_token_secret) \n",
    "  \n",
    "# calling the api  \n",
    "api = tweepy.API(auth, wait_on_rate_limit=True)"
   ]
  },
  {
   "cell_type": "markdown",
   "metadata": {},
   "source": [
    "## CEO"
   ]
  },
  {
   "cell_type": "code",
   "execution_count": 21,
   "metadata": {},
   "outputs": [
    {
     "data": {
      "text/html": [
       "<div>\n",
       "<style scoped>\n",
       "    .dataframe tbody tr th:only-of-type {\n",
       "        vertical-align: middle;\n",
       "    }\n",
       "\n",
       "    .dataframe tbody tr th {\n",
       "        vertical-align: top;\n",
       "    }\n",
       "\n",
       "    .dataframe thead th {\n",
       "        text-align: right;\n",
       "    }\n",
       "</style>\n",
       "<table border=\"1\" class=\"dataframe\">\n",
       "  <thead>\n",
       "    <tr style=\"text-align: right;\">\n",
       "      <th></th>\n",
       "      <th>CEO</th>\n",
       "      <th>Company</th>\n",
       "      <th>YEAR</th>\n",
       "      <th>Handle</th>\n",
       "    </tr>\n",
       "  </thead>\n",
       "  <tbody>\n",
       "    <tr>\n",
       "      <th>0</th>\n",
       "      <td>Thomas W. Horton</td>\n",
       "      <td>AMERICAN AIRLINES GROUP INC</td>\n",
       "      <td>2012.0</td>\n",
       "      <td>ThomasWHorton</td>\n",
       "    </tr>\n",
       "    <tr>\n",
       "      <th>1</th>\n",
       "      <td>Lisa T. Su, Ph.D.</td>\n",
       "      <td>ADVANCED MICRO DEVICES</td>\n",
       "      <td>2015.0</td>\n",
       "      <td>LisaSu</td>\n",
       "    </tr>\n",
       "    <tr>\n",
       "      <th>2</th>\n",
       "      <td>Mark Thomas Bertolini</td>\n",
       "      <td>AETNA INC</td>\n",
       "      <td>2011.0</td>\n",
       "      <td>mtbert</td>\n",
       "    </tr>\n",
       "    <tr>\n",
       "      <th>3</th>\n",
       "      <td>David J. Aldrich</td>\n",
       "      <td>SKYWORKS SOLUTIONS INC</td>\n",
       "      <td>2007.0</td>\n",
       "      <td>davidjs379</td>\n",
       "    </tr>\n",
       "    <tr>\n",
       "      <th>4</th>\n",
       "      <td>John B. Hess</td>\n",
       "      <td>HESS CORP</td>\n",
       "      <td>2007.0</td>\n",
       "      <td>johnbhess</td>\n",
       "    </tr>\n",
       "  </tbody>\n",
       "</table>\n",
       "</div>"
      ],
      "text/plain": [
       "                     CEO                      Company    YEAR         Handle\n",
       "0       Thomas W. Horton  AMERICAN AIRLINES GROUP INC  2012.0  ThomasWHorton\n",
       "1      Lisa T. Su, Ph.D.       ADVANCED MICRO DEVICES  2015.0         LisaSu\n",
       "2  Mark Thomas Bertolini                    AETNA INC  2011.0         mtbert\n",
       "3       David J. Aldrich       SKYWORKS SOLUTIONS INC  2007.0     davidjs379\n",
       "4           John B. Hess                    HESS CORP  2007.0      johnbhess"
      ]
     },
     "execution_count": 21,
     "metadata": {},
     "output_type": "execute_result"
    }
   ],
   "source": [
    "import pandas as pd\n",
    "dff= pd.read_csv('verify_handles_with_twint.csv')\n",
    "dff.drop(['Unnamed: 0', 'GVKEY', 'EXECID'], axis=1, inplace=True)\n",
    "dff.rename(columns={'CEO Name': 'CEO', 'handles': 'Handle'}, inplace=True)\n",
    "dff['CEO']= dff['CEO'].str.replace('/', '')\n",
    "dff.head()"
   ]
  },
  {
   "cell_type": "code",
   "execution_count": 28,
   "metadata": {},
   "outputs": [
    {
     "name": "stdout",
     "output_type": "stream",
     "text": [
      "bad user name, williamccobb\n",
      "bad user name, DougConant/\n",
      "bad user name, FoundersPatriot\n",
      "bad user name, RichardFsmith10\n",
      "bad user name, whoismarkfields/\n",
      "bad user name, presjimryan/\n",
      "bad user name, ceocherylmiller\n",
      "bad user name, chaocheng/\n",
      "bad user name, keithhutton2/\n",
      "bad user name, richardahaynes\n",
      "bad user name, elonjames/\n",
      "bad user name, DSAMikeP\n",
      "bad user name, UHLCEO\n",
      "bad user name, jer979/igniting-the-revolution/a-message-from-ameriprise-chairman-and-ceo-james-m-cracchiolo/\n"
     ]
    }
   ],
   "source": [
    "ceos=[]\n",
    "companies=[]\n",
    "years=[]\n",
    "handles=[]\n",
    "descriptions=[]\n",
    "verified=[]\n",
    "\n",
    "\n",
    "for i in range(len(dff)):\n",
    "    j= dff.iloc[i]['Handle']\n",
    "    try:\n",
    "        result=api.get_user(j).verified\n",
    "        if result==True:\n",
    "            ceos.append(dff.iloc[i]['CEO'])\n",
    "            companies.append(dff.iloc[i]['Company'])\n",
    "            years.append(dff.iloc[i]['YEAR'])\n",
    "            handles.append(j)\n",
    "            descriptions.append(api.get_user(j).description)\n",
    "            verified.append(result)\n",
    "        elif(('ceo' in api.get_user(j).description.lower()) and int(api.get_user(j).followers_count)>100):\n",
    "            ceos.append(dff.iloc[i]['CEO'])\n",
    "            companies.append(dff.iloc[i]['Company'])\n",
    "            years.append(dff.iloc[i]['YEAR'])\n",
    "            handles.append(j)\n",
    "            descriptions.append(api.get_user(j).description)\n",
    "            verified.append(result)\n",
    "        else:\n",
    "            ceos.append(dff.iloc[i]['CEO'])\n",
    "            companies.append(dff.iloc[i]['Company'])\n",
    "            years.append(dff.iloc[i]['YEAR'])\n",
    "            handles.append(np.NaN)\n",
    "            descriptions.append(np.NaN)\n",
    "            verified.append(np.NaN)\n",
    "    except:\n",
    "        print('bad user name,', j)\n",
    "        pass\n",
    "\n",
    "columns = ['CEO','Company', 'YEAR', 'Handle', 'Twitter_Descr', 'verified']\n",
    "gdf = pd.DataFrame(list(zip(ceos, companies, years, handles, descriptions, verified)), columns =columns) \n",
    "gdf.to_csv(\"handles_google_lookup.csv\", index=False)"
   ]
  },
  {
   "cell_type": "code",
   "execution_count": 41,
   "metadata": {},
   "outputs": [
    {
     "data": {
      "text/plain": [
       "(107, 6)"
      ]
     },
     "execution_count": 41,
     "metadata": {},
     "output_type": "execute_result"
    }
   ],
   "source": [
    "gdf= gdf[gdf['verified']!=False]\n",
    "gdf.dropna(subset=['verified'], axis=0, inplace=True)\n",
    "gdf.shape"
   ]
  },
  {
   "cell_type": "code",
   "execution_count": 42,
   "metadata": {},
   "outputs": [
    {
     "data": {
      "text/plain": [
       "(107, 6)"
      ]
     },
     "execution_count": 42,
     "metadata": {},
     "output_type": "execute_result"
    }
   ],
   "source": [
    "gdf.drop_duplicates(inplace=True)\n",
    "gdf.shape"
   ]
  },
  {
   "cell_type": "code",
   "execution_count": 43,
   "metadata": {},
   "outputs": [
    {
     "data": {
      "text/plain": [
       "(102, 6)"
      ]
     },
     "execution_count": 43,
     "metadata": {},
     "output_type": "execute_result"
    }
   ],
   "source": [
    "tdf.drop_duplicates(inplace=True)\n",
    "tdf.shape"
   ]
  },
  {
   "cell_type": "code",
   "execution_count": 44,
   "metadata": {},
   "outputs": [
    {
     "data": {
      "text/html": [
       "<div>\n",
       "<style scoped>\n",
       "    .dataframe tbody tr th:only-of-type {\n",
       "        vertical-align: middle;\n",
       "    }\n",
       "\n",
       "    .dataframe tbody tr th {\n",
       "        vertical-align: top;\n",
       "    }\n",
       "\n",
       "    .dataframe thead th {\n",
       "        text-align: right;\n",
       "    }\n",
       "</style>\n",
       "<table border=\"1\" class=\"dataframe\">\n",
       "  <thead>\n",
       "    <tr style=\"text-align: right;\">\n",
       "      <th></th>\n",
       "      <th>CEO</th>\n",
       "      <th>Company</th>\n",
       "      <th>YEAR</th>\n",
       "      <th>Handle</th>\n",
       "      <th>Twitter_Descr</th>\n",
       "      <th>verified</th>\n",
       "    </tr>\n",
       "  </thead>\n",
       "  <tbody>\n",
       "    <tr>\n",
       "      <th>1</th>\n",
       "      <td>Lisa T. Su, Ph.D.</td>\n",
       "      <td>ADVANCED MICRO DEVICES</td>\n",
       "      <td>2015.0</td>\n",
       "      <td>LisaSu</td>\n",
       "      <td>President and CEO of @AMD</td>\n",
       "      <td>True</td>\n",
       "    </tr>\n",
       "    <tr>\n",
       "      <th>2</th>\n",
       "      <td>Mark Thomas Bertolini</td>\n",
       "      <td>AETNA INC</td>\n",
       "      <td>2011.0</td>\n",
       "      <td>mtbert</td>\n",
       "      <td>Devoted father, rabid hockey fan, retiree and ...</td>\n",
       "      <td>True</td>\n",
       "    </tr>\n",
       "    <tr>\n",
       "      <th>6</th>\n",
       "      <td>Robert Alan Essner</td>\n",
       "      <td>WYETH</td>\n",
       "      <td>2007.0</td>\n",
       "      <td>robertiger</td>\n",
       "      <td>Executive Chairman The Walt Disney Company</td>\n",
       "      <td>True</td>\n",
       "    </tr>\n",
       "    <tr>\n",
       "      <th>9</th>\n",
       "      <td>Timothy D. Cook</td>\n",
       "      <td>APPLE INC</td>\n",
       "      <td>2012.0</td>\n",
       "      <td>tim_cook</td>\n",
       "      <td>Apple CEO  Auburn 🏀 🏈 Duke 🏀 National Parks 🏞...</td>\n",
       "      <td>True</td>\n",
       "    </tr>\n",
       "    <tr>\n",
       "      <th>10</th>\n",
       "      <td>James J. OBrien</td>\n",
       "      <td>ASHLAND GLOBAL HOLDINGS INC</td>\n",
       "      <td>2007.0</td>\n",
       "      <td>mrjamesob</td>\n",
       "      <td>How Not To Be Wrong: The Art Of Changing Your ...</td>\n",
       "      <td>True</td>\n",
       "    </tr>\n",
       "    <tr>\n",
       "      <th>...</th>\n",
       "      <td>...</td>\n",
       "      <td>...</td>\n",
       "      <td>...</td>\n",
       "      <td>...</td>\n",
       "      <td>...</td>\n",
       "      <td>...</td>\n",
       "    </tr>\n",
       "    <tr>\n",
       "      <th>3819</th>\n",
       "      <td>Eric E. Schmidt</td>\n",
       "      <td>ALPHABET INC</td>\n",
       "      <td>2007.0</td>\n",
       "      <td>ericschmidt</td>\n",
       "      <td>Former Executive Chairman &amp; CEO and from Schmi...</td>\n",
       "      <td>True</td>\n",
       "    </tr>\n",
       "    <tr>\n",
       "      <th>3835</th>\n",
       "      <td>Sundar Pichai</td>\n",
       "      <td>ALPHABET INC</td>\n",
       "      <td>2019.0</td>\n",
       "      <td>sundarpichai</td>\n",
       "      <td>CEO,  Google and Alphabet</td>\n",
       "      <td>True</td>\n",
       "    </tr>\n",
       "    <tr>\n",
       "      <th>3935</th>\n",
       "      <td>Michael D. Brown</td>\n",
       "      <td>WYNDHAM DESTINATIONS INC</td>\n",
       "      <td>2018.0</td>\n",
       "      <td>MichaelBrownUSA</td>\n",
       "      <td>Former Under Secretary of Homeland Security. H...</td>\n",
       "      <td>True</td>\n",
       "    </tr>\n",
       "    <tr>\n",
       "      <th>3936</th>\n",
       "      <td>Michael D. Brown</td>\n",
       "      <td>WYNDHAM DESTINATIONS INC</td>\n",
       "      <td>2018.0</td>\n",
       "      <td>SenMDBrown</td>\n",
       "      <td>United States Senator (D-DC), crusader for dem...</td>\n",
       "      <td>True</td>\n",
       "    </tr>\n",
       "    <tr>\n",
       "      <th>3955</th>\n",
       "      <td>Hikmet Ersek</td>\n",
       "      <td>WESTERN UNION CO</td>\n",
       "      <td>2011.0</td>\n",
       "      <td>WesternUnionCEO</td>\n",
       "      <td>CEO of The Western Union Company, LLC (Official)</td>\n",
       "      <td>True</td>\n",
       "    </tr>\n",
       "  </tbody>\n",
       "</table>\n",
       "<p>209 rows × 6 columns</p>\n",
       "</div>"
      ],
      "text/plain": [
       "                        CEO                      Company    YEAR  \\\n",
       "1         Lisa T. Su, Ph.D.       ADVANCED MICRO DEVICES  2015.0   \n",
       "2     Mark Thomas Bertolini                    AETNA INC  2011.0   \n",
       "6        Robert Alan Essner                        WYETH  2007.0   \n",
       "9           Timothy D. Cook                    APPLE INC  2012.0   \n",
       "10          James J. OBrien  ASHLAND GLOBAL HOLDINGS INC  2007.0   \n",
       "...                     ...                          ...     ...   \n",
       "3819        Eric E. Schmidt                 ALPHABET INC  2007.0   \n",
       "3835          Sundar Pichai                 ALPHABET INC  2019.0   \n",
       "3935       Michael D. Brown     WYNDHAM DESTINATIONS INC  2018.0   \n",
       "3936       Michael D. Brown     WYNDHAM DESTINATIONS INC  2018.0   \n",
       "3955           Hikmet Ersek             WESTERN UNION CO  2011.0   \n",
       "\n",
       "               Handle                                      Twitter_Descr  \\\n",
       "1              LisaSu                          President and CEO of @AMD   \n",
       "2              mtbert  Devoted father, rabid hockey fan, retiree and ...   \n",
       "6          robertiger         Executive Chairman The Walt Disney Company   \n",
       "9            tim_cook  Apple CEO  Auburn 🏀 🏈 Duke 🏀 National Parks 🏞...   \n",
       "10          mrjamesob  How Not To Be Wrong: The Art Of Changing Your ...   \n",
       "...               ...                                                ...   \n",
       "3819      ericschmidt  Former Executive Chairman & CEO and from Schmi...   \n",
       "3835     sundarpichai                          CEO,  Google and Alphabet   \n",
       "3935  MichaelBrownUSA  Former Under Secretary of Homeland Security. H...   \n",
       "3936       SenMDBrown  United States Senator (D-DC), crusader for dem...   \n",
       "3955  WesternUnionCEO   CEO of The Western Union Company, LLC (Official)   \n",
       "\n",
       "     verified  \n",
       "1        True  \n",
       "2        True  \n",
       "6        True  \n",
       "9        True  \n",
       "10       True  \n",
       "...       ...  \n",
       "3819     True  \n",
       "3835     True  \n",
       "3935     True  \n",
       "3936     True  \n",
       "3955     True  \n",
       "\n",
       "[209 rows x 6 columns]"
      ]
     },
     "execution_count": 44,
     "metadata": {},
     "output_type": "execute_result"
    }
   ],
   "source": [
    "handlesdf= pd.concat([gdf, tdf], axis=0)\n",
    "handlesdf"
   ]
  },
  {
   "cell_type": "code",
   "execution_count": 46,
   "metadata": {},
   "outputs": [],
   "source": [
    "handlesdf.drop_duplicates(inplace=True)\n",
    "handlesdf.to_csv('final_list of Handles.csv', index=False)"
   ]
  },
  {
   "cell_type": "code",
   "execution_count": 2,
   "metadata": {},
   "outputs": [
    {
     "name": "stdout",
     "output_type": "stream",
     "text": [
      "<class 'pandas.core.frame.DataFrame'>\n",
      "RangeIndex: 183 entries, 0 to 182\n",
      "Data columns (total 7 columns):\n",
      " #   Column         Non-Null Count  Dtype \n",
      "---  ------         --------------  ----- \n",
      " 0   CEO            183 non-null    object\n",
      " 1   Company        183 non-null    object\n",
      " 2   YEAR           183 non-null    int64 \n",
      " 3   Handle         183 non-null    object\n",
      " 4   Twitter_Descr  176 non-null    object\n",
      " 5   verified       183 non-null    bool  \n",
      " 6   Validated      81 non-null     object\n",
      "dtypes: bool(1), int64(1), object(5)\n",
      "memory usage: 8.9+ KB\n"
     ]
    }
   ],
   "source": [
    "val= pd.read_csv(r'C:\\Users\\sachi\\Desktop\\Twitter Mindset\\CEO Mindset\\ISB internship CEO\\final_list of Handles_validated.csv')\n",
    "val.info()"
   ]
  },
  {
   "cell_type": "code",
   "execution_count": 3,
   "metadata": {},
   "outputs": [
    {
     "data": {
      "text/plain": [
       "0      True\n",
       "1      True\n",
       "2      True\n",
       "3      True\n",
       "4       NaN\n",
       "       ... \n",
       "178    True\n",
       "179    True\n",
       "180     NaN\n",
       "181     NaN\n",
       "182     NaN\n",
       "Name: Validated, Length: 183, dtype: object"
      ]
     },
     "execution_count": 3,
     "metadata": {},
     "output_type": "execute_result"
    }
   ],
   "source": [
    "val.Validated"
   ]
  },
  {
   "cell_type": "code",
   "execution_count": 6,
   "metadata": {},
   "outputs": [
    {
     "data": {
      "text/plain": [
       "(81, 7)"
      ]
     },
     "execution_count": 6,
     "metadata": {},
     "output_type": "execute_result"
    }
   ],
   "source": [
    "val= val[val.Validated==True]\n",
    "val.shape"
   ]
  },
  {
   "cell_type": "code",
   "execution_count": 4,
   "metadata": {},
   "outputs": [],
   "source": [
    "# count=0\n",
    "# for i in range(len(val)):\n",
    "#     users = api.get_user(val.iloc[i]['Handle'])\n",
    "#     print(users.statuses_count)\n",
    "#     if users.statuses_count<100:\n",
    "#         print(val.iloc[i]['CEO'], val.iloc[i]['Company'], val.iloc[i]['Handle'])\n",
    "#         print()\n",
    "#         count=count+1\n",
    "\n",
    "# print(count)"
   ]
  },
  {
   "cell_type": "code",
   "execution_count": 22,
   "metadata": {},
   "outputs": [
    {
     "data": {
      "text/plain": [
       "(782, 3)"
      ]
     },
     "execution_count": 22,
     "metadata": {},
     "output_type": "execute_result"
    }
   ],
   "source": [
    "df.drop(['CEO Name', 'ceos', 'YEAR'], axis=1, inplace=True)\n",
    "df.drop_duplicates(subset=['Company'], inplace=True)\n",
    "df.shape"
   ]
  },
  {
   "cell_type": "code",
   "execution_count": 23,
   "metadata": {},
   "outputs": [
    {
     "data": {
      "text/html": [
       "<div>\n",
       "<style scoped>\n",
       "    .dataframe tbody tr th:only-of-type {\n",
       "        vertical-align: middle;\n",
       "    }\n",
       "\n",
       "    .dataframe tbody tr th {\n",
       "        vertical-align: top;\n",
       "    }\n",
       "\n",
       "    .dataframe thead th {\n",
       "        text-align: right;\n",
       "    }\n",
       "</style>\n",
       "<table border=\"1\" class=\"dataframe\">\n",
       "  <thead>\n",
       "    <tr style=\"text-align: right;\">\n",
       "      <th></th>\n",
       "      <th>Company</th>\n",
       "      <th>GVKEY</th>\n",
       "      <th>EXECID</th>\n",
       "    </tr>\n",
       "  </thead>\n",
       "  <tbody>\n",
       "    <tr>\n",
       "      <th>1</th>\n",
       "      <td>ADC TELECOMMUNICATIONS INC</td>\n",
       "      <td>1013.0</td>\n",
       "      <td>10203.0</td>\n",
       "    </tr>\n",
       "    <tr>\n",
       "      <th>2</th>\n",
       "      <td>AMERICAN AIRLINES GROUP INC</td>\n",
       "      <td>1045.0</td>\n",
       "      <td>14591.0</td>\n",
       "    </tr>\n",
       "    <tr>\n",
       "      <th>5</th>\n",
       "      <td>PINNACLE WEST CAPITAL CORP</td>\n",
       "      <td>1075.0</td>\n",
       "      <td>10739.0</td>\n",
       "    </tr>\n",
       "    <tr>\n",
       "      <th>7</th>\n",
       "      <td>ABBOTT LABORATORIES</td>\n",
       "      <td>1078.0</td>\n",
       "      <td>14300.0</td>\n",
       "    </tr>\n",
       "    <tr>\n",
       "      <th>8</th>\n",
       "      <td>ADVANCED MICRO DEVICES</td>\n",
       "      <td>1161.0</td>\n",
       "      <td>20918.0</td>\n",
       "    </tr>\n",
       "    <tr>\n",
       "      <th>...</th>\n",
       "      <td>...</td>\n",
       "      <td>...</td>\n",
       "      <td>...</td>\n",
       "    </tr>\n",
       "    <tr>\n",
       "      <th>1637</th>\n",
       "      <td>CBRE GROUP INC</td>\n",
       "      <td>260774.0</td>\n",
       "      <td>30552.0</td>\n",
       "    </tr>\n",
       "    <tr>\n",
       "      <th>1639</th>\n",
       "      <td>WELLCARE HEALTH PLANS INC</td>\n",
       "      <td>260778.0</td>\n",
       "      <td>31719.0</td>\n",
       "    </tr>\n",
       "    <tr>\n",
       "      <th>1644</th>\n",
       "      <td>LYONDELLBASELL INDUSTRIES NV</td>\n",
       "      <td>294524.0</td>\n",
       "      <td>31023.0</td>\n",
       "    </tr>\n",
       "    <tr>\n",
       "      <th>1646</th>\n",
       "      <td>ALLEGION PLC</td>\n",
       "      <td>316056.0</td>\n",
       "      <td>34850.0</td>\n",
       "    </tr>\n",
       "    <tr>\n",
       "      <th>1647</th>\n",
       "      <td>NVENT ELECTRIC PLC</td>\n",
       "      <td>326688.0</td>\n",
       "      <td>49088.0</td>\n",
       "    </tr>\n",
       "  </tbody>\n",
       "</table>\n",
       "<p>782 rows × 3 columns</p>\n",
       "</div>"
      ],
      "text/plain": [
       "                           Company     GVKEY   EXECID\n",
       "1       ADC TELECOMMUNICATIONS INC    1013.0  10203.0\n",
       "2      AMERICAN AIRLINES GROUP INC    1045.0  14591.0\n",
       "5       PINNACLE WEST CAPITAL CORP    1075.0  10739.0\n",
       "7              ABBOTT LABORATORIES    1078.0  14300.0\n",
       "8           ADVANCED MICRO DEVICES    1161.0  20918.0\n",
       "...                            ...       ...      ...\n",
       "1637                CBRE GROUP INC  260774.0  30552.0\n",
       "1639     WELLCARE HEALTH PLANS INC  260778.0  31719.0\n",
       "1644  LYONDELLBASELL INDUSTRIES NV  294524.0  31023.0\n",
       "1646                  ALLEGION PLC  316056.0  34850.0\n",
       "1647            NVENT ELECTRIC PLC  326688.0  49088.0\n",
       "\n",
       "[782 rows x 3 columns]"
      ]
     },
     "execution_count": 23,
     "metadata": {},
     "output_type": "execute_result"
    }
   ],
   "source": [
    "df"
   ]
  },
  {
   "cell_type": "code",
   "execution_count": 24,
   "metadata": {},
   "outputs": [],
   "source": [
    "df.to_csv('SnP500_List.csv', index=False)"
   ]
  },
  {
   "cell_type": "markdown",
   "metadata": {},
   "source": [
    "# Company"
   ]
  },
  {
   "cell_type": "code",
   "execution_count": null,
   "metadata": {},
   "outputs": [],
   "source": []
  }
 ],
 "metadata": {
  "kernelspec": {
   "display_name": "Python 3",
   "language": "python",
   "name": "python3"
  },
  "language_info": {
   "codemirror_mode": {
    "name": "ipython",
    "version": 3
   },
   "file_extension": ".py",
   "mimetype": "text/x-python",
   "name": "python",
   "nbconvert_exporter": "python",
   "pygments_lexer": "ipython3",
   "version": "3.8.5"
  }
 },
 "nbformat": 4,
 "nbformat_minor": 2
}
