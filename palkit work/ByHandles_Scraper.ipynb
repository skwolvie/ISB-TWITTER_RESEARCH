{
 "cells": [
  {
   "cell_type": "markdown",
   "metadata": {},
   "source": [
    "# IMPORTS AND FILE INPUT"
   ]
  },
  {
   "cell_type": "code",
   "execution_count": 1,
   "metadata": {},
   "outputs": [],
   "source": [
    "import pandas as pd\n",
    "\n",
    "import twint\n",
    "import os\n",
    "import time\n",
    "import nest_asyncio\n",
    "nest_asyncio.apply()\n",
    "from threading import Thread\n",
    "\n",
    "import tweepy\n",
    "import pandas as pd\n",
    "import numpy as np"
   ]
  },
  {
   "cell_type": "code",
   "execution_count": 2,
   "metadata": {},
   "outputs": [
    {
     "data": {
      "text/plain": [
       "'D:\\\\OneDrive - Indian School of Business\\\\Projects\\\\JSI\\\\JSI_OnlineActivity\\\\ISB-JSI_Project-OnlineActivity\\\\Tweets Codes\\\\Scraper'"
      ]
     },
     "execution_count": 2,
     "metadata": {},
     "output_type": "execute_result"
    }
   ],
   "source": [
    "os.getcwd()"
   ]
  },
  {
   "cell_type": "code",
   "execution_count": 3,
   "metadata": {},
   "outputs": [
    {
     "data": {
      "text/plain": [
       "['NSE Nifty500 List.csv', 'Updated_handles_list.csv']"
      ]
     },
     "execution_count": 3,
     "metadata": {},
     "output_type": "execute_result"
    }
   ],
   "source": [
    "os.chdir(r'D:\\OneDrive - Indian School of Business\\Projects\\JSI\\JSI_OnlineActivity\\Tweets Data\\input')\n",
    "os.listdir()"
   ]
  },
  {
   "cell_type": "code",
   "execution_count": 4,
   "metadata": {},
   "outputs": [
    {
     "data": {
      "text/plain": [
       "(332, 10)"
      ]
     },
     "execution_count": 4,
     "metadata": {},
     "output_type": "execute_result"
    }
   ],
   "source": [
    "df= pd.read_csv('Updated_handles_list.csv')\n",
    "df.dropna(inplace=True)\n",
    "df.drop_duplicates(inplace=True)\n",
    "df['CompanyName']= df['CompanyName'].str.replace('.', '')\n",
    "df.to_csv('Updated_handles_list.csv')\n",
    "df.shape"
   ]
  },
  {
   "cell_type": "code",
   "execution_count": 5,
   "metadata": {},
   "outputs": [
    {
     "data": {
      "text/html": [
       "<div>\n",
       "<style scoped>\n",
       "    .dataframe tbody tr th:only-of-type {\n",
       "        vertical-align: middle;\n",
       "    }\n",
       "\n",
       "    .dataframe tbody tr th {\n",
       "        vertical-align: top;\n",
       "    }\n",
       "\n",
       "    .dataframe thead th {\n",
       "        text-align: right;\n",
       "    }\n",
       "</style>\n",
       "<table border=\"1\" class=\"dataframe\">\n",
       "  <thead>\n",
       "    <tr style=\"text-align: right;\">\n",
       "      <th></th>\n",
       "      <th>Industry</th>\n",
       "      <th>CompanyName</th>\n",
       "      <th>cn</th>\n",
       "      <th>Symbol</th>\n",
       "      <th>Series</th>\n",
       "      <th>ISIN Code</th>\n",
       "      <th>handle</th>\n",
       "      <th>verified</th>\n",
       "      <th>descriptions</th>\n",
       "      <th>tweetscount</th>\n",
       "    </tr>\n",
       "  </thead>\n",
       "  <tbody>\n",
       "    <tr>\n",
       "      <th>0</th>\n",
       "      <td>INDUSTRIAL MANUFACTURING</td>\n",
       "      <td>ABB India</td>\n",
       "      <td>abbindialtd</td>\n",
       "      <td>EQ</td>\n",
       "      <td>ABB</td>\n",
       "      <td>INE117A01022</td>\n",
       "      <td>ABBIndia</td>\n",
       "      <td>False</td>\n",
       "      <td>A #technology leader that is driving the digit...</td>\n",
       "      <td>2307</td>\n",
       "    </tr>\n",
       "    <tr>\n",
       "      <th>1</th>\n",
       "      <td>INDUSTRIAL MANUFACTURING</td>\n",
       "      <td>AIA Engineering</td>\n",
       "      <td>aiaengineeringltd</td>\n",
       "      <td>EQ</td>\n",
       "      <td>AIAENG</td>\n",
       "      <td>INE212H01026</td>\n",
       "      <td>aiaengineers</td>\n",
       "      <td>False</td>\n",
       "      <td>Consulting Engineering firm founded in 1985 pr...</td>\n",
       "      <td>202</td>\n",
       "    </tr>\n",
       "    <tr>\n",
       "      <th>2</th>\n",
       "      <td>METALS</td>\n",
       "      <td>APL Apollo Tubes</td>\n",
       "      <td>aplapollotubesltd</td>\n",
       "      <td>EQ</td>\n",
       "      <td>APLAPOLLO</td>\n",
       "      <td>INE702C01019</td>\n",
       "      <td>aplapollo_tubes</td>\n",
       "      <td>False</td>\n",
       "      <td>India's Largest Structural Steel Tube Brand</td>\n",
       "      <td>848</td>\n",
       "    </tr>\n",
       "    <tr>\n",
       "      <th>3</th>\n",
       "      <td>SERVICES</td>\n",
       "      <td>Adani Enterprises</td>\n",
       "      <td>adanienterprisesltd</td>\n",
       "      <td>EQ</td>\n",
       "      <td>ADANIENT</td>\n",
       "      <td>INE423A01024</td>\n",
       "      <td>AdaniOnline</td>\n",
       "      <td>True</td>\n",
       "      <td>A leading business conglomerate enriching live...</td>\n",
       "      <td>2642</td>\n",
       "    </tr>\n",
       "    <tr>\n",
       "      <th>4</th>\n",
       "      <td>CONSUMER GOODS</td>\n",
       "      <td>Aditya Birla Fashion and Retail</td>\n",
       "      <td>adityabirlafashionandretailltd</td>\n",
       "      <td>EQ</td>\n",
       "      <td>ABFRL</td>\n",
       "      <td>INE647O01011</td>\n",
       "      <td>AdityaBirlaGrp</td>\n",
       "      <td>True</td>\n",
       "      <td>Official Twitter account of Aditya Birla Group...</td>\n",
       "      <td>4165</td>\n",
       "    </tr>\n",
       "  </tbody>\n",
       "</table>\n",
       "</div>"
      ],
      "text/plain": [
       "                   Industry                      CompanyName  \\\n",
       "0  INDUSTRIAL MANUFACTURING                        ABB India   \n",
       "1  INDUSTRIAL MANUFACTURING                  AIA Engineering   \n",
       "2                    METALS                 APL Apollo Tubes   \n",
       "3                  SERVICES                Adani Enterprises   \n",
       "4            CONSUMER GOODS  Aditya Birla Fashion and Retail   \n",
       "\n",
       "                               cn Symbol     Series     ISIN Code  \\\n",
       "0                     abbindialtd     EQ        ABB  INE117A01022   \n",
       "1               aiaengineeringltd     EQ     AIAENG  INE212H01026   \n",
       "2               aplapollotubesltd     EQ  APLAPOLLO  INE702C01019   \n",
       "3             adanienterprisesltd     EQ   ADANIENT  INE423A01024   \n",
       "4  adityabirlafashionandretailltd     EQ      ABFRL  INE647O01011   \n",
       "\n",
       "            handle  verified  \\\n",
       "0         ABBIndia     False   \n",
       "1     aiaengineers     False   \n",
       "2  aplapollo_tubes     False   \n",
       "3      AdaniOnline      True   \n",
       "4   AdityaBirlaGrp      True   \n",
       "\n",
       "                                        descriptions  tweetscount  \n",
       "0  A #technology leader that is driving the digit...         2307  \n",
       "1  Consulting Engineering firm founded in 1985 pr...          202  \n",
       "2        India's Largest Structural Steel Tube Brand          848  \n",
       "3  A leading business conglomerate enriching live...         2642  \n",
       "4  Official Twitter account of Aditya Birla Group...         4165  "
      ]
     },
     "execution_count": 5,
     "metadata": {},
     "output_type": "execute_result"
    }
   ],
   "source": [
    "df.head()"
   ]
  },
  {
   "cell_type": "markdown",
   "metadata": {},
   "source": [
    "# TWEEPY VALIDATION"
   ]
  },
  {
   "cell_type": "code",
   "execution_count": 6,
   "metadata": {},
   "outputs": [],
   "source": [
    "# # assign the values accordingly \n",
    "# consumer_key = \"OMJv2A5J1XvXdBSLykjbzQvjN\" \n",
    "# consumer_secret = \"IF1tUCs5uFhKNN4PILugYgTdfaFDEakS4gbzWHKEL92dIoSRHA\" \n",
    "# access_token = \"3097042092-HXzJwRZ4BRSiTa67RfHnlE7CeF01gutElIP6UoT\" \n",
    "# access_token_secret = \"kZYcycMakp0z3jcGC07UpLynOWvvtoBiAmwVjJKziSYB8\"\n",
    "\n",
    "# # authorization of consumer key and consumer secret \n",
    "# auth = tweepy.OAuthHandler(consumer_key, consumer_secret) \n",
    "  \n",
    "# # set access to user's access key and access secret  \n",
    "# auth.set_access_token(access_token, access_token_secret) \n",
    "  \n",
    "# # calling the api  \n",
    "# api = tweepy.API(auth, wait_on_rate_limit=True)"
   ]
  },
  {
   "cell_type": "code",
   "execution_count": 7,
   "metadata": {},
   "outputs": [],
   "source": [
    "# industries=[]\n",
    "# companies=[]\n",
    "# cns=[]\n",
    "# symbols=[]\n",
    "# series=[]\n",
    "# isins=[]\n",
    "# handles=[]\n",
    "# verified=[]\n",
    "# descriptions=[]\n",
    "# tweetscount=[]\n",
    "\n",
    "# for i in range(len(df)):\n",
    "#     j= df.iloc[i]['handle']\n",
    "#     try:\n",
    "#         j= df.iloc[i]['handle']\n",
    "#         obj= api.get_user(j)\n",
    "#         result=obj.verified\n",
    "        \n",
    "#         industries.append(df.iloc[i]['Industry'])\n",
    "#         companies.append(df.iloc[i]['CompanyName'])\n",
    "#         cns.append(df.iloc[i]['cn'])\n",
    "#         symbols.append(df.iloc[i]['Series'])\n",
    "#         series.append(df.iloc[i]['Symbol'])\n",
    "#         isins.append(df.iloc[i]['ISIN Code'])\n",
    "#         handles.append(j)\n",
    "#         verified.append(result)\n",
    "#         descriptions.append(obj.description)\n",
    "#         tweetscount.append(obj.statuses_count)\n",
    "#     except:\n",
    "#         print('bad user name,', j)\n",
    "#         pass\n",
    "\n",
    "# columns = ['Industry', 'CompanyName', 'cn', 'Symbol', 'Series', 'ISIN Code', 'handle', 'verified', 'descriptions', 'tweetscount']\n",
    "# gdf = pd.DataFrame(list(zip(industries,companies,cns,symbols,series,isins,handles,verified,descriptions,tweetscount)), columns =columns) \n",
    "# gdf.to_csv(\"updated_handles_tweepy_verification.csv\", index=False)"
   ]
  },
  {
   "cell_type": "code",
   "execution_count": 8,
   "metadata": {},
   "outputs": [
    {
     "data": {
      "text/plain": [
       "False    198\n",
       "True     134\n",
       "Name: verified, dtype: int64"
      ]
     },
     "execution_count": 8,
     "metadata": {},
     "output_type": "execute_result"
    }
   ],
   "source": [
    "df.verified.value_counts()"
   ]
  },
  {
   "cell_type": "code",
   "execution_count": 9,
   "metadata": {},
   "outputs": [
    {
     "data": {
      "text/plain": [
       "(134, 10)"
      ]
     },
     "execution_count": 9,
     "metadata": {},
     "output_type": "execute_result"
    }
   ],
   "source": [
    "d= df[df.verified==True]\n",
    "d= d[d.tweetscount>100]\n",
    "d.shape"
   ]
  },
  {
   "cell_type": "code",
   "execution_count": 10,
   "metadata": {},
   "outputs": [
    {
     "data": {
      "text/plain": [
       "128"
      ]
     },
     "execution_count": 10,
     "metadata": {},
     "output_type": "execute_result"
    }
   ],
   "source": [
    "len(d[d.tweetscount>1000])"
   ]
  },
  {
   "cell_type": "code",
   "execution_count": 11,
   "metadata": {},
   "outputs": [
    {
     "data": {
      "text/plain": [
       "['Adani Enterprises',\n",
       " 'Aditya Birla Fashion and Retail',\n",
       " 'Akzo Nobel India',\n",
       " 'Bajaj Electricals',\n",
       " 'Bharat Petroleumporation',\n",
       " 'EIH',\n",
       " 'HDFC Life Insurancepany',\n",
       " 'Hindustan Petroleumporation',\n",
       " 'ICICI Lombard General Insurancepany',\n",
       " 'ICICI Prudential Life Insurancepany',\n",
       " 'IDFC',\n",
       " 'IRCON International',\n",
       " 'Power Gridporation of India',\n",
       " 'Procter & Gamble Health',\n",
       " 'Procter & Gamble Hygiene & Health Care',\n",
       " 'Rallis India',\n",
       " 'SBI Cards and Payment Services',\n",
       " 'SBI Life Insurancepany',\n",
       " 'Schneider Electric Infrastructure',\n",
       " 'Suzlon Energy',\n",
       " 'TV18 Broadcast',\n",
       " 'TVS Motorpany',\n",
       " 'Tatamunications',\n",
       " 'Tata MotorsDVR',\n",
       " 'United Breweries',\n",
       " 'Yes Bank',\n",
       " 'Zensar Technolgies',\n",
       " '3M India',\n",
       " 'AU Small Finance Bank',\n",
       " 'Abbott India',\n",
       " 'Aditya Birla Capital',\n",
       " 'Apollo Hospitals Enterprise',\n",
       " 'Apollo Tyres',\n",
       " 'Asian Paints',\n",
       " 'Astral Poly Technik',\n",
       " 'Axis Bank',\n",
       " 'BASF India',\n",
       " 'BSE',\n",
       " 'Bajaj Auto',\n",
       " 'Bandhan Bank',\n",
       " 'Bank of Baroda',\n",
       " 'Bata India',\n",
       " 'Bayer Cropscience',\n",
       " 'Berger Paints India',\n",
       " 'Bharat Heavy Electricals',\n",
       " 'Bharti Airtel',\n",
       " 'Biocon',\n",
       " 'Bosch',\n",
       " 'Britannia Industries',\n",
       " 'Canara Bank',\n",
       " 'Ceat',\n",
       " 'Central Bank of India',\n",
       " 'Coal India',\n",
       " 'Cummins India',\n",
       " 'Dish TV India',\n",
       " 'Edelweiss Financial Services',\n",
       " 'Eicher Motors',\n",
       " 'Firstsource Solutions',\n",
       " 'Future Retail',\n",
       " 'GAIL ',\n",
       " 'Gillette India',\n",
       " 'HCL Technologies',\n",
       " 'HDFC Bank',\n",
       " 'Havells India',\n",
       " 'Hero MotoCorp',\n",
       " 'Hindustan Aeronautics',\n",
       " 'Hindustanper',\n",
       " 'Hindustan Unilever',\n",
       " 'Hindustan Zinc',\n",
       " 'Honeywell Automation India',\n",
       " 'ICICI Bank',\n",
       " 'ICICI Securities',\n",
       " 'IDBI Bank',\n",
       " 'IDFC First Bank',\n",
       " 'IIFL Finance',\n",
       " 'Indiamart Intermesh',\n",
       " 'Indian Bank',\n",
       " 'IndusInd Bank',\n",
       " 'Info Edge ',\n",
       " 'Infosys',\n",
       " 'Inox Leisure',\n",
       " 'JSW Steel',\n",
       " 'Jindal Steel & Power',\n",
       " 'Kajaria Ceramics',\n",
       " 'Kansai Nerolac Paints',\n",
       " 'Karnataka Bank',\n",
       " 'L&T Finance Holdings',\n",
       " 'Larsen & Toubro Infotech',\n",
       " 'Linde India',\n",
       " 'MOIL',\n",
       " 'MRF',\n",
       " 'Mahindra & Mahindra',\n",
       " 'Mahindra Holidays & Resorts India',\n",
       " 'Maruti Suzuki India',\n",
       " 'Max Financial Services',\n",
       " 'MindTree',\n",
       " 'Motilal Oswal Financial Services',\n",
       " 'NHPC',\n",
       " 'NLC India',\n",
       " 'NMDC',\n",
       " 'NTPC',\n",
       " 'Oil India',\n",
       " 'Oracle Financial Services Software',\n",
       " 'Orient Electric',\n",
       " 'Persistent Systems',\n",
       " 'Pfizer',\n",
       " 'Punjab National Bank',\n",
       " 'RBL Bank',\n",
       " 'REC',\n",
       " 'RITES',\n",
       " 'Raymond',\n",
       " 'Sanofi India',\n",
       " 'Schaeffler India',\n",
       " 'Shoppers Stop',\n",
       " 'South Indian Bank',\n",
       " 'Spicejet',\n",
       " 'State Bank of India',\n",
       " 'Steel Authority of India',\n",
       " 'Sterlite Technologies',\n",
       " 'Sun TV Network',\n",
       " 'Sundaram Finance',\n",
       " 'TV Today Network',\n",
       " 'Tasty Bite Eatables',\n",
       " 'Tatasultancy Services',\n",
       " 'Tata Motors',\n",
       " 'Tata Power',\n",
       " 'Tata Steel',\n",
       " 'Tech Mahindra',\n",
       " 'UltraTech Cement',\n",
       " 'Union Bank of India',\n",
       " 'V-Guard Industries',\n",
       " 'Vodafone Idea',\n",
       " 'Wipro',\n",
       " 'Zee Entertainment Enterprises']"
      ]
     },
     "execution_count": 11,
     "metadata": {},
     "output_type": "execute_result"
    }
   ],
   "source": [
    "d.CompanyName.to_list()"
   ]
  },
  {
   "cell_type": "markdown",
   "metadata": {},
   "source": [
    "# TWINT SCRAPER"
   ]
  },
  {
   "cell_type": "code",
   "execution_count": 12,
   "metadata": {},
   "outputs": [],
   "source": [
    "gdf=df"
   ]
  },
  {
   "cell_type": "code",
   "execution_count": 13,
   "metadata": {},
   "outputs": [],
   "source": [
    "def tweetbyHandle(handle, company):\n",
    "    c= twint.Config()\n",
    "    c.Username = str(handle)\n",
    "    c.Since = \"2018-01-01\"\n",
    "    c.Until = \"2020-12-31\"\n",
    "    c.Lang= \"en\"\n",
    "    c.Hide_output = True\n",
    "    c.Format = \"Username: {username} | Tweet: {tweet}\"\n",
    "    c.Store_csv = True\n",
    "    c.Output = str(company)+\".csv\"\n",
    "    c.Debug = True\n",
    "    \n",
    "    try:\n",
    "        if str(company)+\".csv\" in os.listdir():\n",
    "            print(str(company)+\".csv\", \" scrapped already\")\n",
    "            pass\n",
    "        else:\n",
    "            twint.run.Search(c)    \n",
    "    except (KeyboardInterrupt, SystemExit):\n",
    "        raise\n",
    "    except:\n",
    "        print(\"Problem with %s.\" % since)"
   ]
  },
  {
   "cell_type": "code",
   "execution_count": 14,
   "metadata": {},
   "outputs": [],
   "source": [
    "os.chdir(r'D:\\OneDrive - Indian School of Business\\Projects\\JSI\\JSI_OnlineActivity\\Tweets Data\\output\\collected')"
   ]
  },
  {
   "cell_type": "code",
   "execution_count": 15,
   "metadata": {},
   "outputs": [],
   "source": [
    "gdf.reset_index(inplace=True)\n",
    "gdf.drop('index', axis=1, inplace=True)"
   ]
  },
  {
   "cell_type": "code",
   "execution_count": null,
   "metadata": {},
   "outputs": [
    {
     "name": "stdout",
     "output_type": "stream",
     "text": [
      "ABBIndiastart\n",
      "[!] No more data! Scraping will stop now.\n",
      "found 0 deleted tweets in this search.\n",
      "ABB Indiadone\n",
      "aiaengineersstart\n",
      "[!] No more data! Scraping will stop now.\n",
      "found 0 deleted tweets in this search.\n",
      "AIA Engineeringdone\n",
      "aplapollo_tubesstart\n",
      "[!] No more data! Scraping will stop now.\n",
      "found 0 deleted tweets in this search.\n",
      "APL Apollo Tubesdone\n",
      "AdaniOnlinestart\n"
     ]
    },
    {
     "name": "stderr",
     "output_type": "stream",
     "text": [
      "CRITICAL:root:twint.output:_output:CSV:Error:[Errno 13] Permission denied: 'Adani Enterprises.csv'\n",
      "CRITICAL:root:twint.output:_output:CSV:Error:[Errno 13] Permission denied: 'Adani Enterprises.csv'\n",
      "CRITICAL:root:twint.output:_output:CSV:Error:[Errno 13] Permission denied: 'Adani Enterprises.csv'\n",
      "CRITICAL:root:twint.output:_output:CSV:Error:[Errno 13] Permission denied: 'Adani Enterprises.csv'\n",
      "CRITICAL:root:twint.output:_output:CSV:Error:[Errno 13] Permission denied: 'Adani Enterprises.csv'\n",
      "CRITICAL:root:twint.output:_output:CSV:Error:[Errno 13] Permission denied: 'Adani Enterprises.csv'\n"
     ]
    },
    {
     "name": "stdout",
     "output_type": "stream",
     "text": [
      "[Errno 13] Permission denied: 'Adani Enterprises.csv' [x] output._output\n",
      "[Errno 13] Permission denied: 'Adani Enterprises.csv' [x] output._output\n",
      "[Errno 13] Permission denied: 'Adani Enterprises.csv' [x] output._output\n",
      "[Errno 13] Permission denied: 'Adani Enterprises.csv' [x] output._output\n",
      "[Errno 13] Permission denied: 'Adani Enterprises.csv' [x] output._output\n",
      "[Errno 13] Permission denied: 'Adani Enterprises.csv' [x] output._output\n",
      "[!] No more data! Scraping will stop now.\n",
      "found 0 deleted tweets in this search.\n",
      "Adani Enterprisesdone\n",
      "AdityaBirlaGrpstart\n",
      "[!] No more data! Scraping will stop now.\n",
      "found 0 deleted tweets in this search.\n",
      "Aditya Birla Fashion and Retaildone\n",
      "AdvancedEnzymesstart\n",
      "[!] No more data! Scraping will stop now.\n",
      "found 0 deleted tweets in this search.\n",
      "Advanced Enzyme Techdone\n",
      "Aegis_Logisticsstart\n",
      "[!] No more data! Scraping will stop now.\n",
      "found 0 deleted tweets in this search.\n",
      "Aegis Logisticsdone\n",
      "AjantaPharmaLtdstart\n",
      "[!] No more data! Scraping will stop now.\n",
      "found 0 deleted tweets in this search.\n",
      "Ajanta Pharmaceuticalsdone\n",
      "AkzoNobelstart\n"
     ]
    }
   ],
   "source": [
    "start_time= time.time()\n",
    "for rows in df.itertuples():\n",
    "    company = getattr(rows, 'CompanyName')##Getting the company name\n",
    "    handle = getattr(rows, 'handle')\n",
    "    ##Getting the Twitter handles of the required company\n",
    "    print(handle + \"start\")\n",
    "    tweetbyHandle(handle = handle, company = company)##Initialising the tweet function\n",
    "    print(company + \"done\")\n",
    "print(\"time taken= \", (time.time()-start_time)/60, \" minutes\")"
   ]
  },
  {
   "cell_type": "code",
   "execution_count": null,
   "metadata": {},
   "outputs": [],
   "source": []
  }
 ],
 "metadata": {
  "kernelspec": {
   "display_name": "Python 3",
   "language": "python",
   "name": "python3"
  },
  "language_info": {
   "codemirror_mode": {
    "name": "ipython",
    "version": 3
   },
   "file_extension": ".py",
   "mimetype": "text/x-python",
   "name": "python",
   "nbconvert_exporter": "python",
   "pygments_lexer": "ipython3",
   "version": "3.8.5"
  }
 },
 "nbformat": 4,
 "nbformat_minor": 4
}
